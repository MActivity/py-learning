{
 "cells": [
  {
   "cell_type": "code",
   "execution_count": 109,
   "metadata": {},
   "outputs": [],
   "source": [
    "import random\n",
    "import pandas as pd\n",
    "import matplotlib.pyplot as plt\n",
    "import math"
   ]
  },
  {
   "cell_type": "code",
   "execution_count": 173,
   "metadata": {},
   "outputs": [
    {
     "data": {
      "image/png": "[encoded data removed]",
      "text/plain": [
       "<Figure size 432x288 with 1 Axes>"
      ]
     },
     "metadata": {
      "needs_background": "light"
     },
     "output_type": "display_data"
    }
   ],
   "source": [
    "# Create a function that maps out random walk\n",
    "\n",
    "def random_walk(num_blocks):    \n",
    "    coords=[(0,0)]\n",
    "    distance = []\n",
    "    for i in range(num_blocks-1):\n",
    "        \n",
    "        # Choose direction\n",
    "        direction = random.choice(['n','s','w','e'])\n",
    "        \n",
    "        # Change coordinates\n",
    "        if direction == 'n':\n",
    "            coords.append((coords[i][0]+1, coords[i][1]))\n",
    "        elif direction == 's':\n",
    "            coords.append((coords[i][0]-1, coords[i][1]))\n",
    "        elif direction == 'w':\n",
    "            coords.append((coords[i][0], coords[i][1]-1))\n",
    "        elif direction == 'e':\n",
    "            coords.append((coords[i][0], coords[i][1]+1))\n",
    "            \n",
    "    # Create data frame of coordinates\n",
    "    random_walk_points = pd.DataFrame(coords, columns=['x','y'])\n",
    "    \n",
    "    distance.append(math.hypot(random_walk_points.x.iloc[-1]-random_walk_points.x.iloc[0], random_walk_points.y.iloc[-1]-random_walk_points.y.iloc[0]))\n",
    "    dist = pd.DataFrame(distance, columns=['distance'])\n",
    "    \n",
    "    # Plot Coordinates\n",
    "    plt.plot(random_walk_points['x'],random_walk_points['y'])\n",
    "    plt.show\n",
    "    \n",
    "    \n",
    "    \n",
    "    \n",
    "    \n",
    "\n",
    "# create a function that takes multiple walks \n",
    "\n",
    "def multiple_walks(num_walks, num_steps):\n",
    "    for i in range(num_walks-1):\n",
    "        random_walk(num_steps)\n",
    "        \n",
    "multiple_walks(100,10)\n"
   ]
  },
  {
   "cell_type": "code",
   "execution_count": null,
   "metadata": {},
   "outputs": [],
   "source": []
  }
 ],
 "metadata": {
  "kernelspec": {
   "display_name": "Python 3",
   "language": "python",
   "name": "python3"
  },
  "language_info": {
   "codemirror_mode": {
    "name": "ipython",
    "version": 3
   },
   "file_extension": ".py",
   "mimetype": "text/x-python",
   "name": "python",
   "nbconvert_exporter": "python",
   "pygments_lexer": "ipython3",
   "version": "3.8.3"
  }
 },
 "nbformat": 4,
 "nbformat_minor": 4
}
